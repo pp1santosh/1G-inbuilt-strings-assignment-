{
 "cells": [
  {
   "cell_type": "code",
   "execution_count": 5,
   "id": "613fc577",
   "metadata": {},
   "outputs": [
    {
     "name": "stdout",
     "output_type": "stream",
     "text": [
      "number of alphabet in string x is =12\n",
      "number of element in list =4\n"
     ]
    }
   ],
   "source": [
    "# sol1 len()function\n",
    "\"\"\"The len() function returns the number of items in an object.\n",
    "When the object is a string, the len() function returns the number of characters in the string\"\"\"\n",
    "#exampe\n",
    "x= \"pwskillgenAI\"\n",
    "char_num=len(x)\n",
    "print(f\"number of alphabet in string x is ={char_num}\")\n",
    "y=[23,\"def\",54,2+4j]\n",
    "print(f\"number of element in list ={len(y)}\")#here len() functon tell no of item present in a list object.\n",
    "\n",
    "        "
   ]
  },
  {
   "cell_type": "code",
   "execution_count": 6,
   "id": "9fe34baf",
   "metadata": {},
   "outputs": [
    {
     "name": "stdout",
     "output_type": "stream",
     "text": [
      "hello to datascience ai gen course\n"
     ]
    }
   ],
   "source": [
    "# sol 2 concatination\n",
    "\"\"\"The simplest way to concatenate, or join, strings in Python is by using the '+' operator\n",
    "and the syntax, str3 = str1 + ' ' + str2+....\"\"\"\n",
    "#example\n",
    "string1=\"hello to \"\n",
    "string2=\"datascience ai gen course\"\n",
    "string3=string1+\"\"+string2\n",
    "print(string3)\n",
    "\n",
    "    \n"
   ]
  },
  {
   "cell_type": "code",
   "execution_count": 7,
   "id": "45c28055",
   "metadata": {},
   "outputs": [
    {
     "name": "stdout",
     "output_type": "stream",
     "text": [
      "llo\n"
     ]
    }
   ],
   "source": [
    "#3 sol slicing a string\n",
    "\"\"\"we can return a range of characters by using the slice syntax.\n",
    "By Specifying the start index and the end index, separated by a colon, \n",
    "to return a part of the string\"\"\"\n",
    "#example\n",
    "b = \"Hello, World!\"\n",
    "print(b[2:5]) # note  from position 2 to position 5 (not included)\n",
    "# End index limit is excluded in above it will print up to 4th index              "
   ]
  },
  {
   "cell_type": "code",
   "execution_count": 14,
   "id": "16cd44e6",
   "metadata": {},
   "outputs": [
    {
     "name": "stdout",
     "output_type": "stream",
     "text": [
      "SANTOSH KUMAR SINGH \n",
      "\n",
      "\n",
      "python data science gen ai\n"
     ]
    }
   ],
   "source": [
    "#4 sol\n",
    "\"\"\"By using upper() and  lower() string methods we can change case of a string.\"\"\"\n",
    "#example\n",
    "name=\"santosh kumar singh\"\n",
    "capital=name.upper()# change all alphabet to upper case\n",
    "print(capital,\"\\n\\n\")\n",
    "program=\"PYTHON DATA SCIENCE GEN AI\"\n",
    "small=program.lower() # change to lower case\n",
    "print(small)\n",
    "    "
   ]
  },
  {
   "cell_type": "code",
   "execution_count": 21,
   "id": "5f5f247a",
   "metadata": {},
   "outputs": [
    {
     "data": {
      "text/plain": [
       "['PW ', 'SKILL', 'DATASCIENCE&GEN', 'AI']"
      ]
     },
     "execution_count": 21,
     "metadata": {},
     "output_type": "execute_result"
    }
   ],
   "source": [
    "#5 sol\n",
    "\"\"\"The split() method splits a string into a list.This method splits a string into substrings\n",
    "based on a delimiter and returns a list of these substrings\"\"\"\n",
    "course=\"PW @SKILL@DATASCIENCE&GEN@AI\"# in delimeter=@\n",
    "lst_1=course.split(\"@\")\n",
    "lst_1"
   ]
  },
  {
   "cell_type": "code",
   "execution_count": null,
   "id": "8d337ead",
   "metadata": {},
   "outputs": [],
   "source": []
  }
 ],
 "metadata": {
  "kernelspec": {
   "display_name": "Python 3 (ipykernel)",
   "language": "python",
   "name": "python3"
  },
  "language_info": {
   "codemirror_mode": {
    "name": "ipython",
    "version": 3
   },
   "file_extension": ".py",
   "mimetype": "text/x-python",
   "name": "python",
   "nbconvert_exporter": "python",
   "pygments_lexer": "ipython3",
   "version": "3.9.13"
  }
 },
 "nbformat": 4,
 "nbformat_minor": 5
}
